{
  "nbformat": 4,
  "nbformat_minor": 0,
  "metadata": {
    "colab": {
      "name": "chapter01.ipynb",
      "provenance": [],
      "collapsed_sections": [],
      "include_colab_link": true
    },
    "kernelspec": {
      "name": "python3",
      "display_name": "Python 3"
    }
  },
  "cells": [
    {
      "cell_type": "markdown",
      "metadata": {
        "id": "view-in-github",
        "colab_type": "text"
      },
      "source": [
        "<a href=\"https://colab.research.google.com/github/student227760/nlp100/blob/master/chapter01.ipynb\" target=\"_parent\"><img src=\"https://colab.research.google.com/assets/colab-badge.svg\" alt=\"Open In Colab\"/></a>"
      ]
    },
    {
      "cell_type": "markdown",
      "metadata": {
        "id": "TF5HIiXoTzry",
        "colab_type": "text"
      },
      "source": [
        "# 第1章: 準備運動"
      ]
    },
    {
      "cell_type": "markdown",
      "metadata": {
        "id": "T7HtwX4XT4zc",
        "colab_type": "text"
      },
      "source": [
        "## 00. 文字列の逆順\n",
        "***\n",
        "文字列”stressed”の文字を逆に（末尾から先頭に向かって）並べた文字列を得よ．"
      ]
    },
    {
      "cell_type": "code",
      "metadata": {
        "id": "XlSePvcDT3JH",
        "colab_type": "code",
        "colab": {
          "base_uri": "https://localhost:8080/",
          "height": 34
        },
        "outputId": "e5098f00-c22f-4116-86cb-45c224bf0dbc"
      },
      "source": [
        "str = 'stressed'\n",
        "ans = str[::-1]\n",
        "\n",
        "print(ans)\n"
      ],
      "execution_count": 2,
      "outputs": [
        {
          "output_type": "stream",
          "text": [
            "desserts\n"
          ],
          "name": "stdout"
        }
      ]
    },
    {
      "cell_type": "code",
      "metadata": {
        "id": "ZbP_QilmOJsj",
        "colab_type": "code",
        "colab": {
          "base_uri": "https://localhost:8080/",
          "height": 35
        },
        "outputId": "a18298b2-f22d-4df2-e913-8a1e4b091c9b"
      },
      "source": [
        "str = 'stressed'\n",
        "str[::-1]"
      ],
      "execution_count": 5,
      "outputs": [
        {
          "output_type": "execute_result",
          "data": {
            "application/vnd.google.colaboratory.intrinsic": {
              "type": "string"
            },
            "text/plain": [
              "'desserts'"
            ]
          },
          "metadata": {
            "tags": []
          },
          "execution_count": 5
        }
      ]
    },
    {
      "cell_type": "markdown",
      "metadata": {
        "id": "znMoAECvUV6s",
        "colab_type": "text"
      },
      "source": [
        "## 01. 「パタトクカシーー」\n",
        "***\n",
        "「パタトクカシーー」という文字列の1,3,5,7文字目を取り出して連結した文字列を得よ．"
      ]
    },
    {
      "cell_type": "code",
      "metadata": {
        "id": "Ivyu57SAUEZP",
        "colab_type": "code",
        "colab": {
          "base_uri": "https://localhost:8080/",
          "height": 35
        },
        "outputId": "d9b4be00-1960-4176-8aa2-8201f94ba1f7"
      },
      "source": [
        "# str = 'パタトクカシーー'\n",
        "# ans = str[::2]\n",
        "\n",
        "# print(ans)"
      ],
      "execution_count": null,
      "outputs": [
        {
          "output_type": "stream",
          "text": [
            "パトカー\n"
          ],
          "name": "stdout"
        }
      ]
    },
    {
      "cell_type": "code",
      "metadata": {
        "id": "98gjl5CuOQuc",
        "colab_type": "code",
        "colab": {
          "base_uri": "https://localhost:8080/",
          "height": 35
        },
        "outputId": "a66383fe-1a61-4a09-d599-dcddb96ca7a2"
      },
      "source": [
        "str = 'パタトクカシーー'\n",
        "str[::2]"
      ],
      "execution_count": 7,
      "outputs": [
        {
          "output_type": "execute_result",
          "data": {
            "application/vnd.google.colaboratory.intrinsic": {
              "type": "string"
            },
            "text/plain": [
              "'パトカー'"
            ]
          },
          "metadata": {
            "tags": []
          },
          "execution_count": 7
        }
      ]
    },
    {
      "cell_type": "markdown",
      "metadata": {
        "id": "q03ZjV4jVDPd",
        "colab_type": "text"
      },
      "source": [
        "## 02. 「パトカー」＋「タクシー」＝「パタトクカシーー」\n",
        "***\n",
        "「パトカー」＋「タクシー」の文字を先頭から交互に連結して文字列「パタトクカシーー」を得よ．"
      ]
    },
    {
      "cell_type": "code",
      "metadata": {
        "id": "KsPQn6eXUgaF",
        "colab_type": "code",
        "colab": {
          "base_uri": "https://localhost:8080/",
          "height": 35
        },
        "outputId": "f4008c15-2356-43c9-cfab-0b0c3539dbb6"
      },
      "source": [
        "# str1 = 'パトカー'\n",
        "# str2 = 'タクシー'\n",
        "# ans = ''.join([i + j for i, j in zip(str1, str2)])\n",
        "\n",
        "# print(ans)"
      ],
      "execution_count": null,
      "outputs": [
        {
          "output_type": "stream",
          "text": [
            "パタトクカシーー\n"
          ],
          "name": "stdout"
        }
      ]
    },
    {
      "cell_type": "code",
      "metadata": {
        "id": "37Z2yrZxOX55",
        "colab_type": "code",
        "colab": {
          "base_uri": "https://localhost:8080/",
          "height": 35
        },
        "outputId": "c5b49c07-eb72-4769-b9ea-7d0d1f6b8f57"
      },
      "source": [
        "str1 = 'パトカー'\n",
        "str2 = 'タクシー'\n",
        "\n",
        "\n",
        "result = \"\"\n",
        "for i,j in zip(str1,str2):\n",
        "  s = i+ j  \n",
        "  result = result+s\n",
        "\n",
        "result"
      ],
      "execution_count": 23,
      "outputs": [
        {
          "output_type": "execute_result",
          "data": {
            "application/vnd.google.colaboratory.intrinsic": {
              "type": "string"
            },
            "text/plain": [
              "'パタトクカシーー'"
            ]
          },
          "metadata": {
            "tags": []
          },
          "execution_count": 23
        }
      ]
    },
    {
      "cell_type": "markdown",
      "metadata": {
        "id": "88tWD10wWrG_",
        "colab_type": "text"
      },
      "source": [
        "## 03. 円周率\n",
        "***\n",
        "“Now I need a drink, alcoholic of course, after the heavy lectures involving quantum mechanics.”という文を単語に分解し，各単語の（アルファベットの）文字数を先頭から出現順に並べたリストを作成せよ．"
      ]
    },
    {
      "cell_type": "code",
      "metadata": {
        "id": "z5Lq8GfdVaVI",
        "colab_type": "code",
        "colab": {
          "base_uri": "https://localhost:8080/",
          "height": 35
        },
        "outputId": "49088de1-a0f9-42b5-9fa6-1d2848ad2b0b"
      },
      "source": [
        "# import re\n",
        "\n",
        "# str = 'Now I need a drink, alcoholic of course, after the heavy lectures involving quantum mechanics.'\n",
        "# str = re.sub('[,\\.]', '', str)  # ,と.を除去\n",
        "# splits = str.split()  # スペースで区切って単語ごとのリストを作成\n",
        "# ans = [len(i) for i in splits]\n",
        "\n",
        "# print(ans)"
      ],
      "execution_count": null,
      "outputs": [
        {
          "output_type": "stream",
          "text": [
            "[3, 1, 4, 1, 5, 9, 2, 6, 5, 3, 5, 8, 9, 7, 9]\n"
          ],
          "name": "stdout"
        }
      ]
    },
    {
      "cell_type": "markdown",
      "metadata": {
        "id": "vpZfX1v8OHRk",
        "colab_type": "text"
      },
      "source": [
        "## 04. 元素記号\n",
        "***\n",
        "“Hi He Lied Because Boron Could Not Oxidize Fluorine. New Nations Might Also Sign Peace Security Clause. Arthur King Can.”という文を単語に分解し，1, 5, 6, 7, 8, 9, 15, 16, 19番目の単語は先頭の1文字，それ以外の単語は先頭に2文字を取り出し，取り出した文字列から単語の位置（先頭から何番目の単語か）への連想配列（辞書型もしくはマップ型）を作成せよ．"
      ]
    },
    {
      "cell_type": "code",
      "metadata": {
        "id": "4qloDpQOXDPP",
        "colab_type": "code",
        "colab": {
          "base_uri": "https://localhost:8080/",
          "height": 55
        },
        "outputId": "c805961f-5145-4828-de0a-d7284b96ac9f"
      },
      "source": [
        "str = 'Hi He Lied Because Boron Could Not Oxidize Fluorine. New Nations Might Also Sign Peace Security Clause. Arthur King Can.'\n",
        "splits = str.split()\n",
        "one_ch = [1, 5, 6, 7, 8, 9, 15, 16, 19]  # 1文字を取り出す単語の番号リスト\n",
        "ans = {}\n",
        "for i, word in enumerate(splits):\n",
        "  if i + 1 in one_ch:\n",
        "    ans[word[:1]] = i + 1  # リストにあれば1文字を取得\n",
        "  else:\n",
        "    ans[word[:2]] = i + 1  # なければ2文字を取得\n",
        "    \n",
        "print(ans)"
      ],
      "execution_count": null,
      "outputs": [
        {
          "output_type": "stream",
          "text": [
            "{'H': 1, 'He': 2, 'Li': 3, 'Be': 4, 'B': 5, 'C': 6, 'N': 7, 'O': 8, 'F': 9, 'Ne': 10, 'Na': 11, 'Mi': 12, 'Al': 13, 'Si': 14, 'P': 15, 'S': 16, 'Cl': 17, 'Ar': 18, 'K': 19, 'Ca': 20}\n"
          ],
          "name": "stdout"
        }
      ]
    },
    {
      "cell_type": "code",
      "metadata": {
        "id": "xl_FSra9QV_L",
        "colab_type": "code",
        "colab": {
          "base_uri": "https://localhost:8080/",
          "height": 357
        },
        "outputId": "d659309d-baf9-486d-a504-5925d44dfbc7"
      },
      "source": [
        "str = 'Hi He Lied Because Boron Could Not Oxidize Fluorine. New Nations Might Also Sign Peace Security Clause. Arthur King Can.'\n",
        "splits = str.split()\n",
        "one_ch = [1, 5, 6, 7, 8, 9, 15, 16, 19]  # 1文字を取り出す単語の番号リスト\n",
        "ans = {}\n",
        "for i, word in enumerate(splits):\n",
        "  index = i + 1 \n",
        "  if index in one_ch:\n",
        "    ans[word[:1]] = index  # リストにあれば1文字を取得\n",
        "  else:\n",
        "    ans[word[:2]] =index  # なければ2文字を取得\n",
        "\n",
        "\n",
        "ans "
      ],
      "execution_count": 26,
      "outputs": [
        {
          "output_type": "execute_result",
          "data": {
            "text/plain": [
              "{'Al': 13,\n",
              " 'Ar': 18,\n",
              " 'B': 5,\n",
              " 'Be': 4,\n",
              " 'C': 6,\n",
              " 'Ca': 20,\n",
              " 'Cl': 17,\n",
              " 'F': 9,\n",
              " 'H': 1,\n",
              " 'He': 2,\n",
              " 'K': 19,\n",
              " 'Li': 3,\n",
              " 'Mi': 12,\n",
              " 'N': 7,\n",
              " 'Na': 11,\n",
              " 'Ne': 10,\n",
              " 'O': 8,\n",
              " 'P': 15,\n",
              " 'S': 16,\n",
              " 'Si': 14}"
            ]
          },
          "metadata": {
            "tags": []
          },
          "execution_count": 26
        }
      ]
    },
    {
      "cell_type": "markdown",
      "metadata": {
        "id": "EYNvyOUCOJru",
        "colab_type": "text"
      },
      "source": [
        "## 05. n-gram\n",
        "***\n",
        "与えられたシーケンス（文字列やリストなど）からn-gramを作る関数を作成せよ．この関数を用い，”I am an NLPer”という文から単語bi-gram，文字bi-gramを得よ．"
      ]
    },
    {
      "cell_type": "code",
      "metadata": {
        "id": "5ebjTpjDON4B",
        "colab_type": "code",
        "colab": {
          "base_uri": "https://localhost:8080/",
          "height": 53
        },
        "outputId": "2dd8e6f9-c507-4cfc-c770-5ee2a6b8b604"
      },
      "source": [
        "def ngram(n, lst):\n",
        "    return list(zip(*[lst[i:] for i in range(n)]))\n",
        "\n",
        "str = 'I am an NLPer'\n",
        "words_bi_gram = ngram(2, str.split())\n",
        "chars_bi_gram = ngram(2, str)\n",
        "\n",
        "print('単語bi-gram:', words_bi_gram)\n",
        "print('文字bi-gram:', chars_bi_gram)"
      ],
      "execution_count": null,
      "outputs": [
        {
          "output_type": "stream",
          "text": [
            "単語bi-gram: [('I', 'am'), ('am', 'an'), ('an', 'NLPer')]\n",
            "文字bi-gram: [('I', ' '), (' ', 'a'), ('a', 'm'), ('m', ' '), (' ', 'a'), ('a', 'n'), ('n', ' '), (' ', 'N'), ('N', 'L'), ('L', 'P'), ('P', 'e'), ('e', 'r')]\n"
          ],
          "name": "stdout"
        }
      ]
    },
    {
      "cell_type": "markdown",
      "metadata": {
        "id": "dLPmmHDiOOf6",
        "colab_type": "text"
      },
      "source": [
        "## 06. 集合\n",
        "***\n",
        "“paraparaparadise”と”paragraph”に含まれる文字bi-gramの集合を，それぞれ, XとYとして求め，XとYの和集合，積集合，差集合を求めよ．さらに，’se’というbi-gramがXおよびYに含まれるかどうかを調べよ．"
      ]
    },
    {
      "cell_type": "code",
      "metadata": {
        "id": "oruJ1b7SOR99",
        "colab_type": "code",
        "colab": {
          "base_uri": "https://localhost:8080/",
          "height": 143
        },
        "outputId": "5480a98a-b966-43e3-abe0-bea490fe35a8"
      },
      "source": [
        "str1 = 'paraparaparadise'\n",
        "str2 = 'paragraph'\n",
        "X = set(ngram(2, str1))\n",
        "Y = set(ngram(2, str2))\n",
        "union = X | Y\n",
        "intersection = X & Y\n",
        "difference = X - Y\n",
        "\n",
        "print('X:', X)\n",
        "print('Y:', Y)\n",
        "print('和集合:', union)\n",
        "print('積集合:', intersection)\n",
        "print('差集合:', difference)\n",
        "print('Xにseが含まれるか:', {('s', 'e')} <= X)\n",
        "print('Yにseが含まれるか:', {('s', 'e')} <= Y)"
      ],
      "execution_count": null,
      "outputs": [
        {
          "output_type": "stream",
          "text": [
            "X: {('r', 'a'), ('a', 'r'), ('d', 'i'), ('i', 's'), ('a', 'd'), ('a', 'p'), ('p', 'a'), ('s', 'e')}\n",
            "Y: {('r', 'a'), ('a', 'g'), ('a', 'r'), ('a', 'p'), ('p', 'a'), ('g', 'r'), ('p', 'h')}\n",
            "和集合: {('r', 'a'), ('a', 'g'), ('a', 'r'), ('d', 'i'), ('i', 's'), ('a', 'd'), ('a', 'p'), ('p', 'a'), ('s', 'e'), ('g', 'r'), ('p', 'h')}\n",
            "積集合: {('r', 'a'), ('a', 'r'), ('a', 'p'), ('p', 'a')}\n",
            "差集合: {('d', 'i'), ('a', 'd'), ('s', 'e'), ('i', 's')}\n",
            "Xにseが含まれるか: True\n",
            "Yにseが含まれるか: False\n"
          ],
          "name": "stdout"
        }
      ]
    },
    {
      "cell_type": "markdown",
      "metadata": {
        "id": "7D_kaglGOSgL",
        "colab_type": "text"
      },
      "source": [
        "## 07. テンプレートによる文生成\n",
        "***\n",
        "引数x, y, zを受け取り「x時のyはz」という文字列を返す関数を実装せよ．さらに，x=12, y=”気温”, z=22.4として，実行結果を確認せよ．"
      ]
    },
    {
      "cell_type": "code",
      "metadata": {
        "id": "nTBSpT7VOVw6",
        "colab_type": "code",
        "colab": {
          "base_uri": "https://localhost:8080/",
          "height": 35
        },
        "outputId": "726039ea-fa14-4e82-da2d-0f799a730ce8"
      },
      "source": [
        "def generate_sentence(x, y, z):\n",
        "  print(f'{x}時のとき{y}は{z}')\n",
        "\n",
        "generate_sentence(12, '気温', 22.4)"
      ],
      "execution_count": null,
      "outputs": [
        {
          "output_type": "stream",
          "text": [
            "12時のとき気温は22.4\n"
          ],
          "name": "stdout"
        }
      ]
    },
    {
      "cell_type": "markdown",
      "metadata": {
        "id": "CZEogrN2OWXN",
        "colab_type": "text"
      },
      "source": [
        "## 08. 暗号文\n",
        "***\n",
        "与えられた文字列の各文字を，以下の仕様で変換する関数cipherを実装せよ．\n",
        "\n",
        "英小文字ならば(219 - 文字コード)の文字に置換\n",
        "その他の文字はそのまま出力\n",
        "この関数を用い，英語のメッセージを暗号化・復号化せよ．"
      ]
    },
    {
      "cell_type": "code",
      "metadata": {
        "id": "9djc4p0rOaMY",
        "colab_type": "code",
        "colab": {
          "base_uri": "https://localhost:8080/",
          "height": 53
        },
        "outputId": "515ba4ed-7c6c-4614-dffb-3f866620897a"
      },
      "source": [
        "def cipher(str):\n",
        "  rep = [chr(219 - ord(x)) if x.islower() else x for x in str]\n",
        "  \n",
        "  return ''.join(rep)\n",
        "\n",
        "message = 'the quick brown fox jumps over the lazy dog'\n",
        "message = cipher(message)\n",
        "print('暗号化:', message)\n",
        "message = cipher(message)\n",
        "print('復号化:', message)"
      ],
      "execution_count": null,
      "outputs": [
        {
          "output_type": "stream",
          "text": [
            "暗号化: gsv jfrxp yildm ulc qfnkh levi gsv ozab wlt\n",
            "復号化: the quick brown fox jumps over the lazy dog\n"
          ],
          "name": "stdout"
        }
      ]
    },
    {
      "cell_type": "markdown",
      "metadata": {
        "id": "ckhSP3jLOatq",
        "colab_type": "text"
      },
      "source": [
        "## 09. Typoglycemia\n",
        "***\n",
        "スペースで区切られた単語列に対して，各単語の先頭と末尾の文字は残し，それ以外の文字の順序をランダムに並び替えるプログラムを作成せよ．ただし，長さが４以下の単語は並び替えないこととする．適当な英語の文（例えば”I couldn’t believe that I could actually understand what I was reading : the phenomenal power of the human mind .”）を与え，その実行結果を確認せよ．"
      ]
    },
    {
      "cell_type": "code",
      "metadata": {
        "id": "d2SFfgGiOeWP",
        "colab_type": "code",
        "colab": {
          "base_uri": "https://localhost:8080/",
          "height": 35
        },
        "outputId": "dd6392e3-2fe2-4e00-ccd4-dbe31d0350d5"
      },
      "source": [
        "import random\n",
        "\n",
        "def shuffle(words):\n",
        "  splits = words.split()\n",
        "  if len(splits) > 4:\n",
        "    splits = splits[:1] + random.sample(splits[1:-1], len(splits) - 2) + splits[-1:]\n",
        "\n",
        "  return ' '.join(splits)\n",
        "\n",
        "words = \"I couldn't believe that I could actually understand what I was reading : the phenomenal power of the human mind.\"\n",
        "ans = shuffle(words)\n",
        "\n",
        "print(ans)"
      ],
      "execution_count": null,
      "outputs": [
        {
          "output_type": "stream",
          "text": [
            "I understand : believe I could phenomenal the reading couldn't human what of power actually that I was the mind.\n"
          ],
          "name": "stdout"
        }
      ]
    }
  ]
}